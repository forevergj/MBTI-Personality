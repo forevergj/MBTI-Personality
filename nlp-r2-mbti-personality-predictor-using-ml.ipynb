{
 "cells": [
  {
   "cell_type": "code",
   "execution_count": 1,
   "id": "840128a7",
   "metadata": {
    "datalore": {
     "hide_input_from_viewers": false,
     "hide_output_from_viewers": false,
     "node_id": "VodslOZLq7yDsyHvfjnQlG",
     "type": "CODE"
    },
    "papermill": {
     "duration": 2.424339,
     "end_time": "2023-04-03T19:16:58.104667",
     "exception": false,
     "start_time": "2023-04-03T19:16:55.680328",
     "status": "completed"
    },
    "pycharm": {
     "is_executing": true
    },
    "tags": []
   },
   "outputs": [],
   "source": [
    "# Data Analysis\n",
    "import pandas as pd\n",
    "import numpy as np\n",
    "\n",
    "# Data Visualization\n",
    "import seaborn as sns\n",
    "import matplotlib.pyplot as plt\n",
    "import wordcloud\n",
    "from wordcloud import WordCloud\n",
    "import contractions\n",
    "# Text Processing\n",
    "import re\n",
    "from collections import Counter\n",
    "import nltk\n",
    "from nltk.corpus import stopwords\n",
    "from nltk.stem import WordNetLemmatizer\n",
    "\n",
    "# Machine Learning packages\n",
    "from sklearn.feature_extraction.text import CountVectorizer\n",
    "from sklearn.feature_extraction.text import TfidfTransformer\n",
    "\n",
    "# Model training and evaluation\n",
    "from sklearn.model_selection import train_test_split\n",
    "\n",
    "#Models\n",
    "from sklearn.linear_model import LogisticRegression\n",
    "from sklearn.neighbors import KNeighborsClassifier\n",
    "from xgboost import XGBClassifier\n",
    "\n",
    "#Metrics\n",
    "from sklearn.metrics import accuracy_score\n",
    "from sklearn.metrics import classification_report\n",
    "\n",
    "# Ignore noise warning\n",
    "import warnings\n",
    "warnings.filterwarnings(\"ignore\")"
   ]
  },
  {
   "cell_type": "code",
   "execution_count": 2,
   "id": "583a9313",
   "metadata": {
    "datalore": {
     "hide_input_from_viewers": false,
     "hide_output_from_viewers": false,
     "node_id": "YpwzUKLjsGxuDGPUznZIaF",
     "type": "CODE"
    },
    "papermill": {
     "duration": 1.798095,
     "end_time": "2023-04-03T19:16:59.916630",
     "exception": false,
     "start_time": "2023-04-03T19:16:58.118535",
     "status": "completed"
    },
    "pycharm": {
     "is_executing": true
    },
    "tags": []
   },
   "outputs": [
    {
     "data": {
      "text/plain": [
       "{'ENFJ',\n",
       " 'ENFP',\n",
       " 'ENTJ',\n",
       " 'ENTP',\n",
       " 'ESFJ',\n",
       " 'ESFP',\n",
       " 'ESTJ',\n",
       " 'ESTP',\n",
       " 'INFJ',\n",
       " 'INFP',\n",
       " 'INTJ',\n",
       " 'INTP',\n",
       " 'ISFJ',\n",
       " 'ISFP',\n",
       " 'ISTJ',\n",
       " 'ISTP'}"
      ]
     },
     "execution_count": 2,
     "metadata": {},
     "output_type": "execute_result"
    }
   ],
   "source": [
    "df_twitter = pd.read_csv('./dataset/twitter_MBTI.csv', index_col=False)\n",
    "df_twitter.drop(df_twitter.columns[0], axis=1, inplace=True)\n",
    "df_twitter.rename(columns={\"text\": \"posts\",\n",
    "                    \"label\": \"type\"}, inplace=True)\n",
    "# df_mbti_2 = pd.read_csv('./dataset/mbti_full_pull.csv', index_col=False,encoding='ISO-8859-1')\n",
    "df_mbti_1 = pd.read_csv('./dataset/mbti_1.csv', index_col=False)\n",
    "df_mbti_2 = pd.read_csv('./dataset/mbti_full_pull.20240326001448439backup.csv', index_col=False,encoding='ISO-8859-1')\n",
    "df_mbti_2.rename(columns={\"label\": \"type\",\"body\": \"posts\" }, inplace=True)\n",
    "df_mbti_2.drop(df_mbti_2.columns[0], axis=1, inplace=True)\n",
    "MBTI_DS = pd.concat([df_mbti_1,df_twitter\n",
    "                     ,df_mbti_2\n",
    "                    ])\n",
    "MBTI_DS['type']=MBTI_DS['type'].str.upper()\n",
    "# MBTI_DS = pd.read_csv(\"/dataset/mbti_1.csv\")\n",
    "MBTI_DS.tail()\n",
    "set(MBTI_DS['type'])"
   ]
  },
  {
   "cell_type": "code",
   "execution_count": 3,
   "id": "6c223093",
   "metadata": {
    "datalore": {
     "hide_input_from_viewers": false,
     "hide_output_from_viewers": false,
     "node_id": "CG3gDN3vwklkhCOZYJaoCt",
     "type": "CODE"
    },
    "papermill": {
     "duration": 0.032948,
     "end_time": "2023-04-03T19:16:59.963168",
     "exception": false,
     "start_time": "2023-04-03T19:16:59.930220",
     "status": "completed"
    },
    "tags": []
   },
   "outputs": [
    {
     "data": {
      "text/plain": [
       "type     False\n",
       "posts     True\n",
       "dtype: bool"
      ]
     },
     "execution_count": 3,
     "metadata": {},
     "output_type": "execute_result"
    }
   ],
   "source": [
    "MBTI_DS.isnull().any()"
   ]
  },
  {
   "cell_type": "code",
   "execution_count": 4,
   "id": "8106d459",
   "metadata": {
    "papermill": {
     "duration": 0.025708,
     "end_time": "2023-04-03T19:17:00.003443",
     "exception": false,
     "start_time": "2023-04-03T19:16:59.977735",
     "status": "completed"
    },
    "tags": []
   },
   "outputs": [
    {
     "name": "stdout",
     "output_type": "stream",
     "text": [
      "There are 1064987 rows and 2 columns\n"
     ]
    }
   ],
   "source": [
    "nRow, nCol = MBTI_DS.shape\n",
    "print(f'There are {nRow} rows and {nCol} columns')\n"
   ]
  },
  {
   "cell_type": "code",
   "execution_count": 5,
   "id": "1372dac7",
   "metadata": {
    "papermill": {
     "duration": 0.029085,
     "end_time": "2023-04-03T19:17:00.048185",
     "exception": false,
     "start_time": "2023-04-03T19:17:00.019100",
     "status": "completed"
    },
    "tags": []
   },
   "outputs": [
    {
     "data": {
      "text/plain": [
       "type     object\n",
       "posts    object\n",
       "dtype: object"
      ]
     },
     "execution_count": 5,
     "metadata": {},
     "output_type": "execute_result"
    }
   ],
   "source": [
    "MBTI_DS.dtypes\n"
   ]
  },
  {
   "cell_type": "code",
   "execution_count": 6,
   "id": "49d0e507",
   "metadata": {
    "datalore": {
     "hide_input_from_viewers": false,
     "hide_output_from_viewers": false,
     "node_id": "SbReCrOLA8xITnfPd2HTRO",
     "type": "CODE"
    },
    "papermill": {
     "duration": 0.047734,
     "end_time": "2023-04-03T19:17:00.110541",
     "exception": false,
     "start_time": "2023-04-03T19:17:00.062807",
     "status": "completed"
    },
    "tags": []
   },
   "outputs": [
    {
     "name": "stdout",
     "output_type": "stream",
     "text": [
      "<class 'pandas.core.frame.DataFrame'>\n",
      "Index: 1064987 entries, 0 to 1048500\n",
      "Data columns (total 2 columns):\n",
      " #   Column  Non-Null Count    Dtype \n",
      "---  ------  --------------    ----- \n",
      " 0   type    1064987 non-null  object\n",
      " 1   posts   1064948 non-null  object\n",
      "dtypes: object(2)\n",
      "memory usage: 24.4+ MB\n"
     ]
    }
   ],
   "source": [
    "MBTI_DS.info()"
   ]
  },
  {
   "cell_type": "markdown",
   "id": "46d94800",
   "metadata": {
    "datalore": {
     "hide_input_from_viewers": false,
     "hide_output_from_viewers": false,
     "node_id": "Ot6vuolPG3dQ8xktDxFmEB",
     "type": "MD"
    },
    "papermill": {
     "duration": 0.013574,
     "end_time": "2023-04-03T19:17:00.138925",
     "exception": false,
     "start_time": "2023-04-03T19:17:00.125351",
     "status": "completed"
    },
    "tags": []
   },
   "source": [
    "## **SUMMARY**\n",
    "\n",
    "#### - JUST 2 columns in MBTI DATASET\n",
    "#### - Number rows IS 8675\n",
    "#### - No null valuesin MBTI DATASET\n",
    "#### - -All values are textual, So we should convert to numeric form to train the Machine Learning model"
   ]
  },
  {
   "cell_type": "code",
   "execution_count": 7,
   "id": "6e399e8c",
   "metadata": {
    "datalore": {
     "hide_input_from_viewers": false,
     "hide_output_from_viewers": false,
     "node_id": "xsiISbVwpg9GwVWtl7098e",
     "type": "CODE"
    },
    "papermill": {
     "duration": 0.09292,
     "end_time": "2023-04-03T19:17:00.245696",
     "exception": false,
     "start_time": "2023-04-03T19:17:00.152776",
     "status": "completed"
    },
    "tags": []
   },
   "outputs": [
    {
     "data": {
      "text/html": [
       "<div>\n",
       "<style scoped>\n",
       "    .dataframe tbody tr th:only-of-type {\n",
       "        vertical-align: middle;\n",
       "    }\n",
       "\n",
       "    .dataframe tbody tr th {\n",
       "        vertical-align: top;\n",
       "    }\n",
       "\n",
       "    .dataframe thead th {\n",
       "        text-align: right;\n",
       "    }\n",
       "</style>\n",
       "<table border=\"1\" class=\"dataframe\">\n",
       "  <thead>\n",
       "    <tr style=\"text-align: right;\">\n",
       "      <th></th>\n",
       "      <th>type</th>\n",
       "      <th>posts</th>\n",
       "    </tr>\n",
       "  </thead>\n",
       "  <tbody>\n",
       "    <tr>\n",
       "      <th>count</th>\n",
       "      <td>1064987</td>\n",
       "      <td>1064948</td>\n",
       "    </tr>\n",
       "    <tr>\n",
       "      <th>unique</th>\n",
       "      <td>16</td>\n",
       "      <td>1040533</td>\n",
       "    </tr>\n",
       "    <tr>\n",
       "      <th>top</th>\n",
       "      <td>INTP</td>\n",
       "      <td>Yes.</td>\n",
       "    </tr>\n",
       "    <tr>\n",
       "      <th>freq</th>\n",
       "      <td>279609</td>\n",
       "      <td>399</td>\n",
       "    </tr>\n",
       "  </tbody>\n",
       "</table>\n",
       "</div>"
      ],
      "text/plain": [
       "           type    posts\n",
       "count   1064987  1064948\n",
       "unique       16  1040533\n",
       "top        INTP     Yes.\n",
       "freq     279609      399"
      ]
     },
     "execution_count": 7,
     "metadata": {},
     "output_type": "execute_result"
    }
   ],
   "source": [
    "MBTI_DS.describe(include=['object'])"
   ]
  },
  {
   "cell_type": "markdown",
   "id": "e943cd82",
   "metadata": {
    "datalore": {
     "hide_input_from_viewers": false,
     "hide_output_from_viewers": false,
     "node_id": "4tbcZzRpFpxOHgBh6n64zJ",
     "type": "MD"
    },
    "papermill": {
     "duration": 0.014912,
     "end_time": "2023-04-03T19:17:00.275276",
     "exception": false,
     "start_time": "2023-04-03T19:17:00.260364",
     "status": "completed"
    },
    "tags": []
   },
   "source": [
    "**We see**\n",
    "There are 16 unique personality type indicators in the dataset\n",
    "**INFP** most frequently occuring personality type\n",
    "\n",
    "Number of occurences is 1832"
   ]
  },
  {
   "cell_type": "code",
   "execution_count": 8,
   "id": "41f91581",
   "metadata": {
    "datalore": {
     "hide_input_from_viewers": false,
     "hide_output_from_viewers": false,
     "node_id": "T0vRYCwF7HvqAv6FcJThdV",
     "type": "CODE"
    },
    "papermill": {
     "duration": 0.029641,
     "end_time": "2023-04-03T19:17:00.318929",
     "exception": false,
     "start_time": "2023-04-03T19:17:00.289288",
     "status": "completed"
    },
    "tags": []
   },
   "outputs": [
    {
     "name": "stdout",
     "output_type": "stream",
     "text": [
      "The Unique values 'type' of personality column ['ENFJ' 'ENFP' 'ENTJ' 'ENTP' 'ESFJ' 'ESFP' 'ESTJ' 'ESTP' 'INFJ' 'INFP'\n",
      " 'INTJ' 'INTP' 'ISFJ' 'ISFP' 'ISTJ' 'ISTP']\n"
     ]
    }
   ],
   "source": [
    "types = np.unique(np.array(MBTI_DS['type']))\n",
    "print(\"The Unique values 'type' of personality column\",types)"
   ]
  },
  {
   "cell_type": "code",
   "execution_count": 9,
   "id": "e8244b71",
   "metadata": {
    "datalore": {
     "hide_input_from_viewers": false,
     "hide_output_from_viewers": false,
     "node_id": "J3ND8Q9YyRGSrObK8sYNlX",
     "type": "CODE"
    },
    "papermill": {
     "duration": 0.038386,
     "end_time": "2023-04-03T19:17:00.371702",
     "exception": false,
     "start_time": "2023-04-03T19:17:00.333316",
     "status": "completed"
    },
    "tags": []
   },
   "outputs": [
    {
     "name": "stdout",
     "output_type": "stream",
     "text": [
      "The Total Posts for every Personality Type\n"
     ]
    },
    {
     "data": {
      "text/html": [
       "<div>\n",
       "<style scoped>\n",
       "    .dataframe tbody tr th:only-of-type {\n",
       "        vertical-align: middle;\n",
       "    }\n",
       "\n",
       "    .dataframe tbody tr th {\n",
       "        vertical-align: top;\n",
       "    }\n",
       "\n",
       "    .dataframe thead th {\n",
       "        text-align: right;\n",
       "    }\n",
       "</style>\n",
       "<table border=\"1\" class=\"dataframe\">\n",
       "  <thead>\n",
       "    <tr style=\"text-align: right;\">\n",
       "      <th></th>\n",
       "      <th>posts</th>\n",
       "    </tr>\n",
       "    <tr>\n",
       "      <th>type</th>\n",
       "      <th></th>\n",
       "    </tr>\n",
       "  </thead>\n",
       "  <tbody>\n",
       "    <tr>\n",
       "      <th>ENFJ</th>\n",
       "      <td>12989</td>\n",
       "    </tr>\n",
       "    <tr>\n",
       "      <th>ENFP</th>\n",
       "      <td>58607</td>\n",
       "    </tr>\n",
       "    <tr>\n",
       "      <th>ENTJ</th>\n",
       "      <td>30762</td>\n",
       "    </tr>\n",
       "    <tr>\n",
       "      <th>ENTP</th>\n",
       "      <td>130986</td>\n",
       "    </tr>\n",
       "    <tr>\n",
       "      <th>ESFJ</th>\n",
       "      <td>1771</td>\n",
       "    </tr>\n",
       "    <tr>\n",
       "      <th>ESFP</th>\n",
       "      <td>4731</td>\n",
       "    </tr>\n",
       "    <tr>\n",
       "      <th>ESTJ</th>\n",
       "      <td>4370</td>\n",
       "    </tr>\n",
       "    <tr>\n",
       "      <th>ESTP</th>\n",
       "      <td>31260</td>\n",
       "    </tr>\n",
       "    <tr>\n",
       "      <th>INFJ</th>\n",
       "      <td>123000</td>\n",
       "    </tr>\n",
       "    <tr>\n",
       "      <th>INFP</th>\n",
       "      <td>108007</td>\n",
       "    </tr>\n",
       "    <tr>\n",
       "      <th>INTJ</th>\n",
       "      <td>217496</td>\n",
       "    </tr>\n",
       "    <tr>\n",
       "      <th>INTP</th>\n",
       "      <td>279603</td>\n",
       "    </tr>\n",
       "    <tr>\n",
       "      <th>ISFJ</th>\n",
       "      <td>5046</td>\n",
       "    </tr>\n",
       "    <tr>\n",
       "      <th>ISFP</th>\n",
       "      <td>7461</td>\n",
       "    </tr>\n",
       "    <tr>\n",
       "      <th>ISTJ</th>\n",
       "      <td>10983</td>\n",
       "    </tr>\n",
       "    <tr>\n",
       "      <th>ISTP</th>\n",
       "      <td>37876</td>\n",
       "    </tr>\n",
       "  </tbody>\n",
       "</table>\n",
       "</div>"
      ],
      "text/plain": [
       "       posts\n",
       "type        \n",
       "ENFJ   12989\n",
       "ENFP   58607\n",
       "ENTJ   30762\n",
       "ENTP  130986\n",
       "ESFJ    1771\n",
       "ESFP    4731\n",
       "ESTJ    4370\n",
       "ESTP   31260\n",
       "INFJ  123000\n",
       "INFP  108007\n",
       "INTJ  217496\n",
       "INTP  279603\n",
       "ISFJ    5046\n",
       "ISFP    7461\n",
       "ISTJ   10983\n",
       "ISTP   37876"
      ]
     },
     "execution_count": 9,
     "metadata": {},
     "output_type": "execute_result"
    }
   ],
   "source": [
    "total = MBTI_DS.groupby(['type']).count()\n",
    "print(\"The Total Posts for every Personality Type\")\n",
    "total"
   ]
  },
  {
   "cell_type": "markdown",
   "id": "9e3b961e",
   "metadata": {
    "papermill": {
     "duration": 0.013933,
     "end_time": "2023-04-03T19:17:00.400579",
     "exception": false,
     "start_time": "2023-04-03T19:17:00.386646",
     "status": "completed"
    },
    "tags": []
   },
   "source": [
    "**Data visualization**"
   ]
  },
  {
   "cell_type": "code",
   "execution_count": 10,
   "id": "9977a89e",
   "metadata": {
    "datalore": {
     "hide_input_from_viewers": false,
     "hide_output_from_viewers": false,
     "node_id": "1Xgcv78IczINKozsXsCXWG",
     "type": "CODE"
    },
    "papermill": {
     "duration": 0.298258,
     "end_time": "2023-04-03T19:17:00.713551",
     "exception": false,
     "start_time": "2023-04-03T19:17:00.415293",
     "status": "completed"
    },
    "tags": []
   },
   "outputs": [
    {
     "data": {
      "text/plain": [
       "Text(0.5, 1.0, 'Total post each personality type')"
      ]
     },
     "execution_count": 10,
     "metadata": {},
     "output_type": "execute_result"
    },
    {
     "data": {
      "image/png": "[encoded data removed]",
      "text/plain": [
       "<Figure size 1000x300 with 1 Axes>"
      ]
     },
     "metadata": {},
     "output_type": "display_data"
    }
   ],
   "source": [
    "plt.figure(figsize = (10,3))\n",
    "plt.bar(np.array(total.index), height = total['posts'],)\n",
    "plt.xlabel('Personality types', size = 12)\n",
    "plt.ylabel('Number post available', size = 12)\n",
    "plt.title('Total post each personality type')"
   ]
  },
  {
   "cell_type": "markdown",
   "id": "3c75143c",
   "metadata": {
    "datalore": {
     "hide_input_from_viewers": false,
     "hide_output_from_viewers": false,
     "node_id": "5hy57AjsW56ORgxiyhIcQz",
     "type": "MD"
    },
    "papermill": {
     "duration": 0.015471,
     "end_time": "2023-04-03T19:17:00.744533",
     "exception": false,
     "start_time": "2023-04-03T19:17:00.729062",
     "status": "completed"
    },
    "tags": []
   },
   "source": [
    "The MBTI DATASET is unbalanced throughout the different classes. Some personality types has more data than others, The **INFP (Introvert Intuition Feeling Perceiving)** the highest"
   ]
  },
  {
   "cell_type": "markdown",
   "id": "0c72df7c",
   "metadata": {
    "datalore": {
     "hide_input_from_viewers": false,
     "hide_output_from_viewers": false,
     "node_id": "4P6eaE5dwMAwwDcZ7D4jgP",
     "type": "MD"
    },
    "papermill": {
     "duration": 0.014661,
     "end_time": "2023-04-03T19:17:00.774543",
     "exception": false,
     "start_time": "2023-04-03T19:17:00.759882",
     "status": "completed"
    },
    "tags": []
   },
   "source": [
    "Since the original dataset only came with 2 features, the Type and 50 posts for each person, we decided to create additional features for exploring & analysing our dataset.\n",
    "\n",
    "After we added our features, we did some data exploration to see how the raw data looks and to see how important our features were for distinguishing types across the MBTI personalities. Below are plots further showing the type imbalances in our data.\n"
   ]
  },
  {
   "cell_type": "code",
   "execution_count": null,
   "id": "d73819aa",
   "metadata": {
    "datalore": {
     "hide_input_from_viewers": false,
     "hide_output_from_viewers": false,
     "node_id": "HbrM0ouffQuvUpUMCHYZN8",
     "type": "CODE"
    },
    "papermill": {
     "duration": 7.614114,
     "end_time": "2023-04-03T19:17:08.404090",
     "exception": false,
     "start_time": "2023-04-03T19:17:00.789976",
     "status": "completed"
    },
    "tags": []
   },
   "outputs": [],
   "source": [
    "# MBTI_DS_C = MBTI_DS.copy()\n",
    "#Count Number words for each post of a user\n",
    "def var_row(row):\n",
    "    l = []\n",
    "    for i in str(row).split('|||'):\n",
    "        l.append(len(i.split()))\n",
    "    return np.var(l)\n",
    "\n",
    "#Count Number words per post for total 50 posts in whole row\n",
    "MBTI_DS['word_each_comment'] = MBTI_DS['posts'].apply(lambda x: len(str(x).split())/50)\n",
    "MBTI_DS['variance_word_count'] = MBTI_DS['posts'].apply(lambda x: var_row(x))\n",
    "\n",
    "plt.figure(figsize=(15,10))\n",
    "sns.swarmplot(x=\"type\", y=\"word_each_comment\", data=MBTI_DS)"
   ]
  },
  {
   "cell_type": "markdown",
   "id": "e0684413",
   "metadata": {
    "datalore": {
     "hide_input_from_viewers": false,
     "hide_output_from_viewers": false,
     "node_id": "wnLIOrlqY870IWnfAFy3om",
     "type": "MD"
    },
    "papermill": {
     "duration": 0.021016,
     "end_time": "2023-04-03T19:17:08.447038",
     "exception": false,
     "start_time": "2023-04-03T19:17:08.426022",
     "status": "completed"
    },
    "tags": []
   },
   "source": [
    "**INFP** has the most cluttered showing there are most number of comments of this type of personality"
   ]
  },
  {
   "cell_type": "markdown",
   "id": "91831979",
   "metadata": {
    "datalore": {
     "hide_input_from_viewers": false,
     "hide_output_from_viewers": false,
     "node_id": "99GDsgxMNHRSUf8OMO9mKa",
     "type": "MD"
    },
    "papermill": {
     "duration": 0.021288,
     "end_time": "2023-04-03T19:17:08.489614",
     "exception": false,
     "start_time": "2023-04-03T19:17:08.468326",
     "status": "completed"
    },
    "tags": []
   },
   "source": [
    "**DISTANCE PLOT** This seaborn visualization method shows the histogram distribution data for single column."
   ]
  },
  {
   "cell_type": "code",
   "execution_count": null,
   "id": "7cb5bbf2",
   "metadata": {
    "datalore": {
     "hide_input_from_viewers": false,
     "hide_output_from_viewers": false,
     "node_id": "VjsVNjMV9YQFNeIHWfYDv5",
     "type": "CODE"
    },
    "papermill": {
     "duration": 0.425415,
     "end_time": "2023-04-03T19:17:08.935978",
     "exception": false,
     "start_time": "2023-04-03T19:17:08.510563",
     "status": "completed"
    },
    "tags": []
   },
   "outputs": [],
   "source": [
    "MBTI_DS[\"length_posts\"] = MBTI_DS[\"posts\"].apply(len)\n",
    "sns.distplot(MBTI_DS[\"length_posts\"]).set_title(\"Distribution of Lengths of all 50 Posts\")"
   ]
  },
  {
   "cell_type": "markdown",
   "id": "ab09eb9c",
   "metadata": {
    "datalore": {
     "hide_input_from_viewers": false,
     "hide_output_from_viewers": false,
     "node_id": "MFJv1cpdUgUiwuZ0OjN8eq",
     "type": "MD"
    },
    "papermill": {
     "duration": 0.022886,
     "end_time": "2023-04-03T19:17:08.980419",
     "exception": false,
     "start_time": "2023-04-03T19:17:08.957533",
     "status": "completed"
    },
    "tags": []
   },
   "source": [
    "We can see that most no of lengthly posts have between **7000-9000 words**."
   ]
  },
  {
   "cell_type": "code",
   "execution_count": null,
   "id": "b780b843",
   "metadata": {
    "datalore": {
     "hide_input_from_viewers": false,
     "hide_output_from_viewers": false,
     "node_id": "aI8Szja9Rxul5B23MhMGZ4",
     "type": "CODE"
    },
    "papermill": {
     "duration": 4.421983,
     "end_time": "2023-04-03T19:17:13.424396",
     "exception": false,
     "start_time": "2023-04-03T19:17:09.002413",
     "status": "completed"
    },
    "tags": []
   },
   "outputs": [],
   "source": [
    "#Finding the most common words in all posts.\n",
    "words = list(MBTI_DS[\"posts\"].apply(lambda x: x.split()))\n",
    "words = [x for y in words for x in y]\n",
    "Counter(words).most_common(50)"
   ]
  },
  {
   "cell_type": "markdown",
   "id": "dbe41caf",
   "metadata": {
    "datalore": {
     "hide_input_from_viewers": false,
     "hide_output_from_viewers": false,
     "node_id": "Mpkwa5fqjXGT9nTcUGOvZo",
     "type": "MD"
    },
    "papermill": {
     "duration": 0.023982,
     "end_time": "2023-04-03T19:17:13.471421",
     "exception": false,
     "start_time": "2023-04-03T19:17:13.447439",
     "status": "completed"
    },
    "tags": []
   },
   "source": [
    "The posts contain general words like : I, to, the, a, and, of, is, you etc. \n",
    "\n",
    "we assume that these words don't really provide any useful information to train the Machine Learning model as most of them are stop-words or other useless words.\n"
   ]
  },
  {
   "cell_type": "markdown",
   "id": "d008f6e3",
   "metadata": {
    "datalore": {
     "hide_input_from_viewers": false,
     "hide_output_from_viewers": false,
     "node_id": "51D6vUP9e4HOqgB1kjtA6F",
     "type": "MD"
    },
    "papermill": {
     "duration": 0.021753,
     "end_time": "2023-04-03T19:17:13.515673",
     "exception": false,
     "start_time": "2023-04-03T19:17:13.493920",
     "status": "completed"
    },
    "tags": []
   },
   "source": [
    "**WORDCLOUD**"
   ]
  },
  {
   "cell_type": "code",
   "execution_count": null,
   "id": "fe7b42c0",
   "metadata": {
    "datalore": {
     "hide_input_from_viewers": false,
     "hide_output_from_viewers": false,
     "node_id": "Ge4Q6b33AMkuZviWVShGxh",
     "type": "CODE"
    },
    "papermill": {
     "duration": 17.930257,
     "end_time": "2023-04-03T19:17:31.467734",
     "exception": false,
     "start_time": "2023-04-03T19:17:13.537477",
     "status": "completed"
    },
    "tags": []
   },
   "outputs": [],
   "source": [
    "\n",
    "# wc = wordcloud.WordCloud(width=1000, height=100, collocations=False, background_color=\"white\", colormap=\"tab20b\").generate(\" \".join(words))\n",
    "\n",
    "# # collocations to False  is set to ensure that the word cloud doesn't appear as if it contains any duplicate words\n",
    "# plt.figure(figsize=(25,10))\n",
    "# # generate word cloud, interpolation \n",
    "# plt.imshow(wc, interpolation='bilinear')\n",
    "# _ = plt.axis(\"off\")"
   ]
  },
  {
   "cell_type": "code",
   "execution_count": null,
   "id": "78f23d67",
   "metadata": {
    "datalore": {
     "hide_input_from_viewers": false,
     "hide_output_from_viewers": false,
     "node_id": "IuqF7voTB17L1ZHP1BUHl4",
     "type": "CODE"
    },
    "papermill": {
     "duration": 7.152583,
     "end_time": "2023-04-03T19:17:38.649990",
     "exception": false,
     "start_time": "2023-04-03T19:17:31.497407",
     "status": "completed"
    },
    "tags": []
   },
   "outputs": [],
   "source": [
    "fig, ax = plt.subplots(len(MBTI_DS['type'].unique()), figsize=(15,len(MBTI_DS['type'].unique())))\n",
    "k = 0\n",
    "for i in MBTI_DS['type'].unique():\n",
    "    df_4 = MBTI_DS[MBTI_DS['type'] == i]\n",
    "    wordcloud = WordCloud(max_words=1628,relative_scaling=1,normalize_plurals=False).generate(df_4['posts'].to_string())\n",
    "    plt.subplot(4,4,k+1)\n",
    "    plt.imshow(wordcloud, interpolation='bilinear')\n",
    "    plt.title(i)\n",
    "    ax[k].axis(\"off\")\n",
    "    k+=1"
   ]
  },
  {
   "cell_type": "markdown",
   "id": "1c3019cc",
   "metadata": {
    "papermill": {
     "duration": 0.039506,
     "end_time": "2023-04-03T19:17:38.728790",
     "exception": false,
     "start_time": "2023-04-03T19:17:38.689284",
     "status": "completed"
    },
    "tags": []
   },
   "source": [
    "we can see there are a number of irrelevant words present in the dataset **(e.g. ha, ar, Ti etx.)** which will need to be removed Interestingly, among the most common words in the word clouds of individual personality types, is the **names of MBTI personlity types themselves**.\n",
    "It would hence be necessary to clean our posts by removing these MBTI words from each of them as part of our pre-processing stage, before training the model for better evaluation results.\n"
   ]
  },
  {
   "cell_type": "code",
   "execution_count": null,
   "id": "87a7f2c7",
   "metadata": {
    "papermill": {
     "duration": 3.483847,
     "end_time": "2023-04-03T19:17:42.252460",
     "exception": false,
     "start_time": "2023-04-03T19:17:38.768613",
     "status": "completed"
    },
    "tags": []
   },
   "outputs": [],
   "source": [
    "#add columns for personality type indicators\n",
    "\n",
    "def get_types(row):\n",
    "    t=row['type']\n",
    "    I = 0; N = 0\n",
    "    T = 0; J = 0\n",
    "    \n",
    "    if t[0] == 'I': I = 1\n",
    "    elif t[0] == 'E': I = 0\n",
    "    else: print('I-E not found') \n",
    "        \n",
    "    if t[1] == 'N': N = 1\n",
    "    elif t[1] == 'S': N = 0\n",
    "    else: print('N-S not found')\n",
    "        \n",
    "    if t[2] == 'T': T = 1\n",
    "    elif t[2] == 'F': T = 0\n",
    "    else: print('T-F not found')\n",
    "        \n",
    "    if t[3] == 'J': J = 1\n",
    "    elif t[3] == 'P': J = 0\n",
    "    else: print('J-P not found')\n",
    "    return pd.Series( {'IE':I, 'NS':N , 'TF': T, 'JP': J }) \n",
    "\n",
    "MBTI_DS_N = pd.concat([MBTI_DS,MBTI_DS.apply(lambda row: get_types(row),axis=1)],axis=1)\n",
    "MBTI_DS_N"
   ]
  },
  {
   "cell_type": "markdown",
   "id": "b4f2e14e",
   "metadata": {
    "papermill": {
     "duration": 0.0395,
     "end_time": "2023-04-03T19:17:42.333343",
     "exception": false,
     "start_time": "2023-04-03T19:17:42.293843",
     "status": "completed"
    },
    "tags": []
   },
   "source": [
    "The above code assigns a value of 1 to individuals who possess the traits of Introversion (I), Intuition (N), Thinking (T), and Judging (J) on the four axes of the Myers-Briggs Type Indicator (MBTI) - Introversion-Extraversion (IE), Intuition-Sensing (NS), Feeling-Thinking (FT), and Judging-Perceiving (JP). All other individuals are assigned a value of 0.\n",
    "\n",
    "This allows us to calculate the number of posts that correspond to introverted individuals versus extroverted individuals out of all the entries in the labeled Kaggle dataset. This analysis is conducted to examine the dataset for each individual personality index of the MBTI.\n"
   ]
  },
  {
   "cell_type": "code",
   "execution_count": null,
   "id": "b3f7fb9b",
   "metadata": {
    "papermill": {
     "duration": 0.059225,
     "end_time": "2023-04-03T19:17:42.432311",
     "exception": false,
     "start_time": "2023-04-03T19:17:42.373086",
     "status": "completed"
    },
    "tags": []
   },
   "outputs": [],
   "source": [
    "#Counting Number posts in one class | Total Number posts in other class\n",
    "\n",
    "print (\"Introversion (I) |  Extroversion (E): \\t\", MBTI_DS_N['IE'].value_counts()[0], \" | \", MBTI_DS_N['IE'].value_counts()[1])\n",
    "print (\"Intuition    (N) |  Sensing      (S): \\t\", MBTI_DS_N['NS'].value_counts()[0], \" | \", MBTI_DS_N['NS'].value_counts()[1])\n",
    "print (\"Thinking     (T) |  Feeling      (F): \\t\", MBTI_DS_N['TF'].value_counts()[0], \" | \", MBTI_DS_N['TF'].value_counts()[1])\n",
    "print (\"Judging      (J) |  Perceiving   (P): \\t\", MBTI_DS_N['JP'].value_counts()[0], \" | \", MBTI_DS_N['JP'].value_counts()[1])\n"
   ]
  },
  {
   "cell_type": "markdown",
   "id": "969ac5a3",
   "metadata": {
    "papermill": {
     "duration": 0.03985,
     "end_time": "2023-04-03T19:17:42.512239",
     "exception": false,
     "start_time": "2023-04-03T19:17:42.472389",
     "status": "completed"
    },
    "tags": []
   },
   "source": [
    "We can see that there is an uneven distribution of the entries in our dataset across the four axes of the MBTI, with E being the majority in the IE axis, S being the majority in the NS axis, and relatively less difference between T and F in the TF axis, and J and P in the JP axis.\n"
   ]
  },
  {
   "cell_type": "code",
   "execution_count": null,
   "id": "e6b0d0da",
   "metadata": {
    "papermill": {
     "duration": 0.200623,
     "end_time": "2023-04-03T19:17:42.752285",
     "exception": false,
     "start_time": "2023-04-03T19:17:42.551662",
     "status": "completed"
    },
    "tags": []
   },
   "outputs": [],
   "source": [
    "#Plotting the distribution of each personality type indicator\n",
    "N = 4\n",
    "bottom = (MBTI_DS_N['IE'].value_counts()[0], MBTI_DS_N['NS'].value_counts()[0], MBTI_DS_N['TF'].value_counts()[0], MBTI_DS_N['JP'].value_counts()[0])\n",
    "top = (MBTI_DS_N['IE'].value_counts()[1], MBTI_DS_N['NS'].value_counts()[1], MBTI_DS_N['TF'].value_counts()[1], MBTI_DS_N['JP'].value_counts()[1])\n",
    "\n",
    "ind = np.arange(N)    # the x locations for the groups\n",
    "# the width of the bars\n",
    "width = 0.7\n",
    "\n",
    "p1 = plt.bar(ind, bottom, width, label=\"I, N, T, F\")\n",
    "p2 = plt.bar(ind, top, width, bottom=bottom, label=\"E, S, F, P\") \n",
    "\n",
    "plt.title('Distribution accoss types indicators')\n",
    "plt.ylabel('Count')\n",
    "plt.xticks(ind, ('I / E',  'N / S', 'T / F', 'J / P',))\n",
    "plt.legend()\n",
    "\n",
    "plt.show()\n"
   ]
  },
  {
   "cell_type": "code",
   "execution_count": null,
   "id": "36e0ef7a",
   "metadata": {
    "papermill": {
     "duration": 0.391307,
     "end_time": "2023-04-03T19:17:43.183235",
     "exception": false,
     "start_time": "2023-04-03T19:17:42.791928",
     "status": "completed"
    },
    "tags": []
   },
   "outputs": [],
   "source": [
    "cmap = plt.cm.RdBu\n",
    "corr = MBTI_DS_N[['IE','NS','TF','JP']].corr()\n",
    "plt.figure(figsize=(12,10))\n",
    "plt.title('Features Correlation Heatmap', size=15)\n",
    "sns.heatmap(corr, cmap=cmap,  annot=True, linewidths=1)\n"
   ]
  },
  {
   "cell_type": "markdown",
   "id": "d89b0ec4",
   "metadata": {
    "papermill": {
     "duration": 0.041439,
     "end_time": "2023-04-03T19:17:43.266305",
     "exception": false,
     "start_time": "2023-04-03T19:17:43.224866",
     "status": "completed"
    },
    "tags": []
   },
   "source": [
    "From this heatmap also, it is unclear if it shows anything valuable for interpretation\n",
    "\n"
   ]
  },
  {
   "cell_type": "markdown",
   "id": "3a6f0fd1",
   "metadata": {
    "datalore": {
     "hide_input_from_viewers": false,
     "hide_output_from_viewers": false,
     "node_id": "UckJyJWdq1x9B3Y9Z97sTO",
     "type": "MD"
    },
    "papermill": {
     "duration": 0.040653,
     "end_time": "2023-04-03T19:17:43.348990",
     "exception": false,
     "start_time": "2023-04-03T19:17:43.308337",
     "status": "completed"
    },
    "tags": []
   },
   "source": [
    "**SUMMARY**\n",
    "We notice that there are a number of irrelevant words present in the dataset, such as \"ha,\" \"ar,\" and \"Ti,\" which need to be removed. Additionally, we observe that among the most frequent words in the word clouds of individual personality types, are the names of the MBTI personality types themselves. Therefore, it is important to clean the posts by removing these MBTI words from each of them as part of the pre-processing stage before training the model to achieve better evaluation results."
   ]
  },
  {
   "cell_type": "markdown",
   "id": "9a791520",
   "metadata": {
    "papermill": {
     "duration": 0.041754,
     "end_time": "2023-04-03T19:17:43.433159",
     "exception": false,
     "start_time": "2023-04-03T19:17:43.391405",
     "status": "completed"
    },
    "tags": []
   },
   "source": [
    "**Pre-Processing Stage**"
   ]
  },
  {
   "cell_type": "markdown",
   "id": "d123a053",
   "metadata": {
    "papermill": {
     "duration": 0.040959,
     "end_time": "2023-04-03T19:17:43.515652",
     "exception": false,
     "start_time": "2023-04-03T19:17:43.474693",
     "status": "completed"
    },
    "tags": []
   },
   "source": [
    "We preprocess the posts by using Lemmatization technique. Lemmatization groups together different inflected forms of a word so they can be analyzed as a single item. Unlike stemming, lemmatization takes into account the context of the word, making it a more suitable choice for our model. This technique links words with similar meanings to one word, resulting in a more accurate analysis."
   ]
  },
  {
   "cell_type": "code",
   "execution_count": null,
   "id": "b5e4cfc1",
   "metadata": {
    "papermill": {
     "duration": 0.06093,
     "end_time": "2023-04-03T19:17:43.618941",
     "exception": false,
     "start_time": "2023-04-03T19:17:43.558011",
     "status": "completed"
    },
    "tags": []
   },
   "outputs": [],
   "source": [
    "    lemmatiser = WordNetLemmatizer()\n",
    "\n",
    "# Remove the stop words for speed \n",
    "useless_words = stopwords.words(\"english\")\n",
    "\n",
    "# Remove these from the posts\n",
    "unique_type_list = ['INFJ', 'ENTP', 'INTP', 'INTJ', 'ENTJ', 'ENFJ', 'INFP', 'ENFP','ISFP', 'ISTP', 'ISFJ', 'ISTJ', 'ESTP', 'ESFP', 'ESTJ', 'ESFJ']\n",
    "unique_type_list = [x.lower() for x in unique_type_list]\n"
   ]
  },
  {
   "cell_type": "markdown",
   "id": "0b113d0e",
   "metadata": {
    "papermill": {
     "duration": 0.040879,
     "end_time": "2023-04-03T19:17:43.700866",
     "exception": false,
     "start_time": "2023-04-03T19:17:43.659987",
     "status": "completed"
    },
    "tags": []
   },
   "source": [
    "Binarizing the each personality type feature\n",
    "\n"
   ]
  },
  {
   "cell_type": "code",
   "execution_count": null,
   "id": "43532dc3",
   "metadata": {
    "papermill": {
     "duration": 0.07142,
     "end_time": "2023-04-03T19:17:43.813021",
     "exception": false,
     "start_time": "2023-04-03T19:17:43.741601",
     "status": "completed"
    },
    "tags": []
   },
   "outputs": [],
   "source": [
    "# Splitting the MBTI personality into 4 letters and binarizing it\n",
    "\n",
    "b_Pers = {'I':0, 'E':1, 'N':0, 'S':1, 'F':0, 'T':1, 'J':0, 'P':1}\n",
    "b_Pers_list = [{0:'I', 1:'E'}, {0:'N', 1:'S'}, {0:'F', 1:'T'}, {0:'J', 1:'P'}]\n",
    "\n",
    "def translate_personality(personality):\n",
    "    # Transform MBTI to binary vector\n",
    "    return [b_Pers[l] for l in personality]\n",
    "\n",
    "#Show result output for personality prediction\n",
    "def translate_back(personality):\n",
    "    # transform binary vector to MBTI personality\n",
    "    s = \"\"\n",
    "    for i, l in enumerate(personality):\n",
    "        s += b_Pers_list[i][l]\n",
    "    return s\n",
    "\n",
    "list_personality_bin = np.array([translate_personality(p) for p in MBTI_DS_N.type])\n",
    "print(\"Binarize MBTI list: \\n%s\" % list_personality_bin)\n"
   ]
  },
  {
   "cell_type": "markdown",
   "id": "ef87bf8a",
   "metadata": {
    "papermill": {
     "duration": 0.042132,
     "end_time": "2023-04-03T19:17:43.896308",
     "exception": false,
     "start_time": "2023-04-03T19:17:43.854176",
     "status": "completed"
    },
    "tags": []
   },
   "source": [
    "**Cleaning Data in posts**"
   ]
  },
  {
   "cell_type": "code",
   "execution_count": null,
   "id": "0a13c533",
   "metadata": {
    "papermill": {
     "duration": 0.48037,
     "end_time": "2023-04-03T19:17:44.417749",
     "exception": false,
     "start_time": "2023-04-03T19:17:43.937379",
     "status": "completed"
    },
    "tags": []
   },
   "outputs": [],
   "source": [
    "nltk.download('wordnet')\n",
    "nltk.download('omw-1.4')\n",
    "\n",
    "from nltk.corpus import stopwords\n",
    "STOPWORDS = set(stopwords.words('english'))\n",
    "MBTI_DS_N"
   ]
  },
  {
   "cell_type": "code",
   "execution_count": null,
   "id": "22bb2ab1",
   "metadata": {
    "papermill": {
     "duration": 52.750141,
     "end_time": "2023-04-03T19:18:37.208493",
     "exception": false,
     "start_time": "2023-04-03T19:17:44.458352",
     "status": "completed"
    },
    "tags": []
   },
   "outputs": [],
   "source": [
    "def pre_process_text(MBTI_DS_N, remove_stop_words=True, remove_mbti_profiles=True):\n",
    "  list_personality = []\n",
    "  list_posts = []\n",
    "  len_MBTI_DS_N = len(MBTI_DS_N)\n",
    "  i=0\n",
    "  \n",
    "  for row in MBTI_DS_N.iterrows():\n",
    "      #Remove and clean comments\n",
    "      posts = row[1].posts\n",
    "\n",
    "      temp = posts.lower()\n",
    "      \n",
    "      temp = temp.strip()\n",
    "      \n",
    "      temp = contractions.fix(temp)\n",
    "      #Remove url links \n",
    "      temp = re.sub('http[s]?://(?:[a-zA-Z]|[0-9]|[$-_@.&+]|(?:%[0-9a-fA-F][0-9a-fA-F]))+', ' ', temp)\n",
    "      \n",
    "      #Remove Non-words - keep only words\n",
    "      temp = re.sub(\"[^a-zA-Z]\", \" \", temp)\n",
    "\n",
    "      # Remove spaces > 1\n",
    "      temp = re.sub(' +', ' ', temp).lower()\n",
    "\n",
    "      #Remove multiple letter repeating words\n",
    "      temp = re.sub(r'([a-z])\\1{2,}[\\s|\\w]*', '', temp)\n",
    "      \n",
    "      #Remove stop words\n",
    "      if remove_stop_words:\n",
    "          temp = \" \".join([lemmatiser.lemmatize(w) for w in temp.split(' ') if w not in useless_words])\n",
    "      else:\n",
    "          temp = \" \".join([lemmatiser.lemmatize(w) for w in temp.split(' ')])\n",
    "          \n",
    "      #Remove MBTI personality words from posts\n",
    "      if remove_mbti_profiles:\n",
    "          for t in unique_type_list:\n",
    "              temp = temp.replace(t,\"\")\n",
    "\n",
    "      # transform mbti to binary vector\n",
    "      # from sklearn.preprocessing import LabelEncoder\n",
    "      # label_encoder = LabelEncoder()\n",
    "      # print(row[1].type)\n",
    "      # label_encoder.fit([row[1].type])\n",
    "      # type_labelized = label_encoder.transform([row[1].type])[0]\n",
    "      # print(type_labelized)\n",
    "      # type_labelized = label_encoder.transform([row[1].type])[0]\n",
    "      type_labelized = translate_personality(row[1].type) #or use lab_encoder.transform([row[1].type])[0]\n",
    "      list_personality.append(type_labelized)\n",
    "      # the cleaned data temp is passed here\n",
    "      list_posts.append(temp)\n",
    "\n",
    "  # returns the result\n",
    "  print('list_posts',list_posts)\n",
    "  list_posts = np.array(list_posts)\n",
    "  list_personality = np.array(list_personality)\n",
    "  return list_posts, list_personality\n",
    "\n",
    "list_posts, list_personality  = pre_process_text(MBTI_DS_N, remove_stop_words=True, remove_mbti_profiles=True)\n",
    "\n",
    "print(\"Example :\")\n",
    "print(\"\\nPost before preprocessing:\\n\\n\", MBTI_DS_N.posts[0])\n",
    "print(\"\\nPost after preprocessing:\\n\\n\", list_posts[0])\n",
    "print(\"\\nMBTI before preprocessing:\\n\\n\", MBTI_DS_N.type[0])\n",
    "print(\"\\nMBTI after preprocessing:\\n\\n\", list_personality[0])\n"
   ]
  },
  {
   "cell_type": "code",
   "execution_count": null,
   "id": "1ec9c428",
   "metadata": {
    "papermill": {
     "duration": 0.053206,
     "end_time": "2023-04-03T19:18:37.303596",
     "exception": false,
     "start_time": "2023-04-03T19:18:37.250390",
     "status": "completed"
    },
    "tags": []
   },
   "outputs": [],
   "source": [
    "nRow, nCol = list_personality.shape\n",
    "print(f'Number of posts = {nRow}  and No. of Personalities = {nCol} ')\n"
   ]
  },
  {
   "cell_type": "markdown",
   "id": "a553d246",
   "metadata": {
    "papermill": {
     "duration": 0.041081,
     "end_time": "2023-04-03T19:18:37.386545",
     "exception": false,
     "start_time": "2023-04-03T19:18:37.345464",
     "status": "completed"
    },
    "tags": []
   },
   "source": [
    "**Feature Engineering - TF-IDF**\n",
    "\n",
    "In our model, we use Tf-idf feature engineering to determine the relevance and importance of a word in relation to a document within a collection of documents. This technique is particularly useful for training individual classifiers and scoring words in machine learning algorithms for natural language processing. We vectorize the dataset using both count vectorizer and tf-idf vectorizer, while only keeping words that appear between 10-70% of the posts."
   ]
  },
  {
   "cell_type": "code",
   "execution_count": null,
   "id": "cdc979bf",
   "metadata": {
    "papermill": {
     "duration": 3.686687,
     "end_time": "2023-04-03T19:18:41.115144",
     "exception": false,
     "start_time": "2023-04-03T19:18:37.428457",
     "status": "completed"
    },
    "tags": []
   },
   "outputs": [],
   "source": [
    "# Vectorizing the database posts to a matrix of token counts for the model\n",
    "cntizer = CountVectorizer(analyzer=\"word\", \n",
    "                             max_features=1000,  \n",
    "                             max_df=0.7,\n",
    "                             min_df=0.1) \n",
    "# the feature should be made of word n-gram \n",
    "\n",
    "# Learn the vocabulary dictionary and return term-document matrix\n",
    "print(\"Using CountVectorizer :\")\n",
    "X_cnt = cntizer.fit_transform(list_posts)\n",
    "\n",
    "#The enumerate object yields pairs containing a count and a value (useful for obtaining an indexed list)\n",
    "feature_names = list(enumerate(cntizer.get_feature_names_out()))\n",
    "print(\"10 feature names can be seen below\")\n",
    "print(feature_names[0:10])\n",
    "\n",
    "# For the Standardization or Feature Scaling Stage :-\n",
    "# Transform the count matrix to a normalized tf or tf-idf representation\n",
    "tfizer = TfidfTransformer()\n",
    "\n",
    "# Learn the idf vector (fit) and transform a count matrix to a tf-idf representation\n",
    "print(\"\\nUsing Tf-idf :\")\n",
    "\n",
    "print(\"Now the dataset size is as below\")\n",
    "X_tfidf =  tfizer.fit_transform(X_cnt).toarray()\n",
    "print(X_tfidf.shape)\n"
   ]
  },
  {
   "cell_type": "markdown",
   "id": "c918c7d0",
   "metadata": {
    "papermill": {
     "duration": 0.043942,
     "end_time": "2023-04-03T19:18:41.203027",
     "exception": false,
     "start_time": "2023-04-03T19:18:41.159085",
     "status": "completed"
    },
    "tags": []
   },
   "source": [
    "**Therefore we now have 595 features for each user post.**\n"
   ]
  },
  {
   "cell_type": "markdown",
   "id": "96a28d97",
   "metadata": {
    "papermill": {
     "duration": 0.0428,
     "end_time": "2023-04-03T19:18:41.287651",
     "exception": false,
     "start_time": "2023-04-03T19:18:41.244851",
     "status": "completed"
    },
    "tags": []
   },
   "source": [
    "Splitting into X and Y variable\n",
    "\n",
    "linkcode\n",
    "Hence we split the features as :\n",
    "\n",
    "X: User Posts in TF-IDF representation\n",
    "\n",
    "Y: Personality type in Binarized MBTI form"
   ]
  },
  {
   "cell_type": "code",
   "execution_count": null,
   "id": "78e3c9a5",
   "metadata": {
    "papermill": {
     "duration": 0.054441,
     "end_time": "2023-04-03T19:18:41.383969",
     "exception": false,
     "start_time": "2023-04-03T19:18:41.329528",
     "status": "completed"
    },
    "tags": []
   },
   "outputs": [],
   "source": [
    "\n",
    "personality_type = [ \"IE: Introversion (I) | Extroversion (E)\", \"NS: Intuition    (N) | Sensing      (S)\", \n",
    "                   \"FT: Feeling      (F) | Thinking     (T)\", \"JP: Judging      (J) | Perceiving   (P)\"  ]\n",
    "\n",
    "for l in range(len(personality_type)):\n",
    "    print(personality_type[l])\n"
   ]
  },
  {
   "cell_type": "markdown",
   "id": "fef64719",
   "metadata": {
    "papermill": {
     "duration": 0.042026,
     "end_time": "2023-04-03T19:18:41.467363",
     "exception": false,
     "start_time": "2023-04-03T19:18:41.425337",
     "status": "completed"
    },
    "tags": []
   },
   "source": [
    "Let's see how the posts look in TF-IDF representation: (we have taken 1st post for demonstration)"
   ]
  },
  {
   "cell_type": "code",
   "execution_count": null,
   "id": "9e3a6f5e",
   "metadata": {
    "papermill": {
     "duration": 0.060898,
     "end_time": "2023-04-03T19:18:41.570626",
     "exception": false,
     "start_time": "2023-04-03T19:18:41.509728",
     "status": "completed"
    },
    "tags": []
   },
   "outputs": [],
   "source": [
    "print(\"X: First post in tf-idf representation\\n%s\" % X_tfidf[0])\n"
   ]
  },
  {
   "cell_type": "markdown",
   "id": "f13fd666",
   "metadata": {
    "papermill": {
     "duration": 0.042198,
     "end_time": "2023-04-03T19:18:41.655534",
     "exception": false,
     "start_time": "2023-04-03T19:18:41.613336",
     "status": "completed"
    },
    "tags": []
   },
   "source": [
    "Let's see how the posts look in Binarized MBTI personality indicator representation: (we have taken 1st post for demonstration)\n"
   ]
  },
  {
   "cell_type": "code",
   "execution_count": null,
   "id": "936e5883",
   "metadata": {
    "papermill": {
     "duration": 0.053292,
     "end_time": "2023-04-03T19:18:41.753158",
     "exception": false,
     "start_time": "2023-04-03T19:18:41.699866",
     "status": "completed"
    },
    "tags": []
   },
   "outputs": [],
   "source": [
    "print(\"For MBTI personality type : %s\" % translate_back(list_personality[0,:]))\n",
    "print(\"Y : Binarized MBTI 1st row: %s\" % list_personality[0,:])\n"
   ]
  },
  {
   "cell_type": "markdown",
   "id": "64442e5e",
   "metadata": {
    "papermill": {
     "duration": 0.043463,
     "end_time": "2023-04-03T19:18:41.838218",
     "exception": false,
     "start_time": "2023-04-03T19:18:41.794755",
     "status": "completed"
    },
    "tags": []
   },
   "source": [
    "**Therefore we have successfully converted the textual data into numerical form**\n",
    "\n"
   ]
  },
  {
   "cell_type": "markdown",
   "id": "df788479",
   "metadata": {
    "papermill": {
     "duration": 0.04166,
     "end_time": "2023-04-03T19:18:41.921073",
     "exception": false,
     "start_time": "2023-04-03T19:18:41.879413",
     "status": "completed"
    },
    "tags": []
   },
   "source": [
    "**Training & Evaluating Models**"
   ]
  },
  {
   "cell_type": "code",
   "execution_count": null,
   "id": "8b880939",
   "metadata": {
    "papermill": {
     "duration": 0.072379,
     "end_time": "2023-04-03T19:18:42.035643",
     "exception": false,
     "start_time": "2023-04-03T19:18:41.963264",
     "status": "completed"
    },
    "tags": []
   },
   "outputs": [],
   "source": [
    "X = X_tfidf\n",
    "Y = list_personality[:,l]\n",
    "X_train, X_test, y_train, y_test = train_test_split(X, Y, test_size=0.33, random_state=7)\n"
   ]
  },
  {
   "cell_type": "code",
   "execution_count": null,
   "id": "9e2ff060",
   "metadata": {
    "papermill": {
     "duration": 1.377962,
     "end_time": "2023-04-03T19:18:43.457958",
     "exception": false,
     "start_time": "2023-04-03T19:18:42.079996",
     "status": "completed"
    },
    "tags": []
   },
   "outputs": [],
   "source": [
    "# Logistic Regression for MBTI dataset\n",
    "# Individually training each mbti personlity type\n",
    "for l in range(len(personality_type)):\n",
    "\n",
    "    Y = list_personality[:,l]\n",
    "\n",
    "    # split data into train and test sets\n",
    "    X_train, X_test, y_train, y_test = train_test_split(X, Y, test_size=0.33, random_state=7)\n",
    "\n",
    "    # fit model on training data\n",
    "    model = LogisticRegression() \n",
    "    model.fit(X_train, y_train)\n",
    "\n",
    "    # make predictions for test data\n",
    "    y_pred = model.predict(X_test)\n",
    "    \n",
    "    predictions = [round(value) for value in y_pred]\n",
    "    # evaluate predictions\n",
    "    accuracy = accuracy_score(y_test, predictions)\n",
    "    \n",
    "    print(\"%s Accuracy: %.2f%%\" % (personality_type[l], accuracy * 100.0))\n",
    "    print(\"%s Classification report for Train Data\" % (personality_type[l]))\n",
    "    print(classification_report(y_train,model.predict(X_train)))\n",
    "    print(\"%s Classification report for Test Data\" % (personality_type[l]))\n",
    "    print(classification_report(y_test, y_pred))\n",
    "    print(\"\\n\")"
   ]
  },
  {
   "cell_type": "code",
   "execution_count": null,
   "id": "364c0f62",
   "metadata": {
    "papermill": {
     "duration": 1.90926,
     "end_time": "2023-04-03T19:18:45.448066",
     "exception": false,
     "start_time": "2023-04-03T19:18:43.538806",
     "status": "completed"
    },
    "tags": []
   },
   "outputs": [],
   "source": [
    "from sklearn.metrics import roc_curve, auc\n",
    "\n",
    "for l in range(len(personality_type)):\n",
    "\n",
    "    Y = list_personality[:,l]\n",
    "\n",
    "    # split data into train and test sets\n",
    "    X_train, X_test, y_train, y_test = train_test_split(X, Y, test_size=0.33, random_state=7)\n",
    "\n",
    "    # fit model on training data\n",
    "    model = LogisticRegression() \n",
    "    model.fit(X_train, y_train)\n",
    "\n",
    "    # make predictions for test data\n",
    "    y_pred = model.predict_proba(X_test)[:,1] # use predict_proba instead of predict for ROC curve\n",
    "    \n",
    "    fpr, tpr, thresholds = roc_curve(y_test, y_pred)\n",
    "    roc_auc = auc(fpr, tpr)\n",
    "    \n",
    "    plt.figure()\n",
    "    plt.plot(fpr, tpr, label='ROC curve (area = %0.2f)' % roc_auc)\n",
    "    plt.plot([0, 1], [0, 1], 'k--')\n",
    "    plt.xlim([0.0, 1.0])\n",
    "    plt.ylim([0.0, 1.05])\n",
    "    plt.xlabel('False Positive Rate')\n",
    "    plt.ylabel('True Positive Rate')\n",
    "    \n",
    "    plt.title('%s ROC Curve' % (personality_type[l]))\n",
    "    plt.legend(loc=\"lower right\")\n",
    "    plt.show()\n"
   ]
  },
  {
   "cell_type": "code",
   "execution_count": null,
   "id": "9be5ead1",
   "metadata": {
    "papermill": {
     "duration": 9.572481,
     "end_time": "2023-04-03T19:18:55.066859",
     "exception": false,
     "start_time": "2023-04-03T19:18:45.494378",
     "status": "completed"
    },
    "tags": []
   },
   "outputs": [],
   "source": [
    "#KNN Classifier\n",
    "from sklearn.metrics import accuracy_score,classification_report\n",
    "\n",
    "# Tuning of K- value for Train & Test data\n",
    "dummyarray = np.empty((5,3))\n",
    "k_valchart = pd.DataFrame(dummyarray)\n",
    "k_valchart.columns = [\"K_value\",\"Train_acc\",\"Test_acc\"]\n",
    "k_vals = [1,2]\n",
    "for i in range(len(k_vals)):\n",
    "    knn_fit = KNeighborsClassifier(n_neighbors=k_vals[i],p=2,metric='minkowski')\n",
    "    knn_fit.fit(X_train,y_train)\n",
    "    print (\"\\nK-value\",k_vals[i])\n",
    "    tr_accscore = round(accuracy_score(y_train,knn_fit.predict(X_train)),3)\n",
    "    print (\"\\nK-Nearest Neighbors - Train ConfusionMatrix\\n\\n\",pd.crosstab( y_train, knn_fit.predict(X_train),rownames =[\"Actuall\"],colnames = [\"Predicted\"]) )\n",
    "    print (\"\\nK-Nearest Neighbors - Train accuracy:\",tr_accscore)\n",
    "    print (\"\\nK-Nearest Neighbors - Train Classification Report\\n\",classification_report(y_train,knn_fit.predict(X_train)))\n",
    "    ts_accscore = round(accuracy_score(y_test,knn_fit.predict(X_test)),3)\n",
    "    print (\"\\n\\nK-Nearest Neighbors - Test Confusion Matrix\\n\\n\",pd.crosstab( y_test,knn_fit.predict(X_test),rownames =[\"Actuall\"],colnames = [\"Predicted\"]))\n",
    "    print (\"\\nK-Nearest Neighbors - Test accuracy:\",ts_accscore)\n",
    "    print (\"\\nK-Nearest Neighbors - Test Classification Report\\n\",classification_report(y_test,knn_fit.predict(X_test)))\n",
    "    k_valchart.loc[i, 'K_value'] = k_vals[i]\n",
    "    k_valchart.loc[i, 'Train_acc'] = tr_accscore\n",
    "    k_valchart.loc[i, 'Test_acc'] = ts_accscore\n",
    "\n",
    "import matplotlib.pyplot as plt\n",
    "\n",
    "# plot the train and test accuracy scores for different K-values\n",
    "plt.plot(k_valchart['K_value'], k_valchart['Train_acc'], label='Train accuracy')\n",
    "plt.plot(k_valchart['K_value'], k_valchart['Test_acc'], label='Test accuracy')\n",
    "plt.xlabel('K-value')\n",
    "plt.ylabel('Accuracy')\n",
    "plt.xticks(k_valchart['K_value'])\n",
    "plt.xticks([1,2])\n",
    "for a,b in zip(k_valchart[\"K_value\"],k_valchart[\"Train_acc\"]):\n",
    "    plt.text(a, b, str(b),fontsize=10)\n",
    "for a,b in zip(k_valchart[\"K_value\"],k_valchart[\"Test_acc\"]):\n",
    "    plt.text(a, b, str(b),fontsize=10)\n",
    "plt.legend()\n",
    "plt.show()\n"
   ]
  },
  {
   "cell_type": "code",
   "execution_count": null,
   "id": "7ccc3bbb",
   "metadata": {
    "papermill": {
     "duration": 53.873398,
     "end_time": "2023-04-03T19:19:48.986484",
     "exception": false,
     "start_time": "2023-04-03T19:18:55.113086",
     "status": "completed"
    },
    "tags": []
   },
   "outputs": [],
   "source": [
    "#XGBoost model for MBTI dataset \n",
    "# Individually training each mbti personlity type\n",
    "for l in range(len(personality_type)):\n",
    "    \n",
    "    Y = list_personality[:,l]\n",
    "\n",
    "    # split data into train and test sets\n",
    "    X_train, X_test, y_train, y_test = train_test_split(X, Y, test_size=0.33, random_state=7)\n",
    "\n",
    "    # fit model on training data\n",
    "    model = XGBClassifier()\n",
    "    model.fit(X_train, y_train)\n",
    "\n",
    "    # make predictions for test data\n",
    "    y_pred = model.predict(X_test)\n",
    "    predictions = [round(value) for value in y_pred]\n",
    "    # evaluate predictions\n",
    "    accuracy = accuracy_score(y_test, predictions)\n",
    "    \n",
    "    print(\"%s Accuracy: %.2f%%\" % (personality_type[l], accuracy * 100.0))\n",
    "    print(\"%s Classification report for Train Data\" % (personality_type[l]))\n",
    "    print(classification_report(y_train,model.predict(X_train)))\n",
    "    print(\"%s Classification report for Test Data\" % (personality_type[l]))\n",
    "    print(classification_report(y_test, y_pred))\n",
    "    print(\"\\n\")\n"
   ]
  },
  {
   "cell_type": "markdown",
   "id": "288a02b1",
   "metadata": {
    "papermill": {
     "duration": 0.04608,
     "end_time": "2023-04-03T19:19:49.095869",
     "exception": false,
     "start_time": "2023-04-03T19:19:49.049789",
     "status": "completed"
    },
    "tags": []
   },
   "source": [
    "** THE END **"
   ]
  }
 ],
 "metadata": {
  "kernelspec": {
   "display_name": "Python 3 (ipykernel)",
   "language": "python",
   "name": "python3"
  },
  "language_info": {
   "codemirror_mode": {
    "name": "ipython",
    "version": 3
   },
   "file_extension": ".py",
   "mimetype": "text/x-python",
   "name": "python",
   "nbconvert_exporter": "python",
   "pygments_lexer": "ipython3",
   "version": "3.12.2"
  },
  "papermill": {
   "default_parameters": {},
   "duration": 186.762214,
   "end_time": "2023-04-03T19:19:50.868802",
   "environment_variables": {},
   "exception": null,
   "input_path": "__notebook__.ipynb",
   "output_path": "__notebook__.ipynb",
   "parameters": {},
   "start_time": "2023-04-03T19:16:44.106588",
   "version": "2.3.4"
  }
 },
 "nbformat": 4,
 "nbformat_minor": 5
}
